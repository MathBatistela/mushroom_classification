{
 "cells": [
  {
   "cell_type": "markdown",
   "metadata": {},
   "source": [
    "# Mushroom's Dataset\n",
    "\n",
    "### Using machine learning to create a model that predicts if a mushroom is edible or poisonus\n"
   ]
  },
  {
   "cell_type": "code",
   "execution_count": 1,
   "metadata": {},
   "outputs": [],
   "source": [
    "import numpy as np\n",
    "import pandas as pd\n",
    "import matplotlib.pyplot as plt\n",
    "import seaborn as sns\n",
    "\n",
    "%matplotlib inline"
   ]
  },
  {
   "cell_type": "markdown",
   "metadata": {},
   "source": [
    "## Loading Data"
   ]
  },
  {
   "cell_type": "code",
   "execution_count": 2,
   "metadata": {},
   "outputs": [
    {
     "name": "stdout",
     "output_type": "stream",
     "text": [
      "<class 'pandas.core.frame.DataFrame'>\n",
      "RangeIndex: 1000 entries, 0 to 999\n",
      "Data columns (total 23 columns):\n",
      " #   Column                    Non-Null Count  Dtype \n",
      "---  ------                    --------------  ----- \n",
      " 0   class                     1000 non-null   object\n",
      " 1   cap-shape                 1000 non-null   object\n",
      " 2   cap-surface               1000 non-null   object\n",
      " 3   cap-color                 1000 non-null   object\n",
      " 4   bruises                   1000 non-null   object\n",
      " 5   odor                      1000 non-null   object\n",
      " 6   gill-attachment           1000 non-null   object\n",
      " 7   gill-spacing              1000 non-null   object\n",
      " 8   gill-size                 1000 non-null   object\n",
      " 9   gill-color                1000 non-null   object\n",
      " 10  stalk-shape               1000 non-null   object\n",
      " 11  stalk-root                690 non-null    object\n",
      " 12  stalk-surface-above-ring  1000 non-null   object\n",
      " 13  stalk-surface-below-ring  1000 non-null   object\n",
      " 14  stalk-color-above-ring    1000 non-null   object\n",
      " 15  stalk-color-below-ring    1000 non-null   object\n",
      " 16  veil-type                 1000 non-null   object\n",
      " 17  veil-color                1000 non-null   object\n",
      " 18  ring-number               1000 non-null   object\n",
      " 19  ring-type                 1000 non-null   object\n",
      " 20  spore-print-color         1000 non-null   object\n",
      " 21  population                1000 non-null   object\n",
      " 22  habitat                   1000 non-null   object\n",
      "dtypes: object(23)\n",
      "memory usage: 179.8+ KB\n"
     ]
    },
    {
     "data": {
      "text/html": [
       "<div>\n",
       "<style scoped>\n",
       "    .dataframe tbody tr th:only-of-type {\n",
       "        vertical-align: middle;\n",
       "    }\n",
       "\n",
       "    .dataframe tbody tr th {\n",
       "        vertical-align: top;\n",
       "    }\n",
       "\n",
       "    .dataframe thead th {\n",
       "        text-align: right;\n",
       "    }\n",
       "</style>\n",
       "<table border=\"1\" class=\"dataframe\">\n",
       "  <thead>\n",
       "    <tr style=\"text-align: right;\">\n",
       "      <th></th>\n",
       "      <th>class</th>\n",
       "      <th>cap-shape</th>\n",
       "      <th>cap-surface</th>\n",
       "      <th>cap-color</th>\n",
       "      <th>bruises</th>\n",
       "      <th>odor</th>\n",
       "      <th>gill-attachment</th>\n",
       "      <th>gill-spacing</th>\n",
       "      <th>gill-size</th>\n",
       "      <th>gill-color</th>\n",
       "      <th>...</th>\n",
       "      <th>stalk-surface-below-ring</th>\n",
       "      <th>stalk-color-above-ring</th>\n",
       "      <th>stalk-color-below-ring</th>\n",
       "      <th>veil-type</th>\n",
       "      <th>veil-color</th>\n",
       "      <th>ring-number</th>\n",
       "      <th>ring-type</th>\n",
       "      <th>spore-print-color</th>\n",
       "      <th>population</th>\n",
       "      <th>habitat</th>\n",
       "    </tr>\n",
       "  </thead>\n",
       "  <tbody>\n",
       "    <tr>\n",
       "      <th>0</th>\n",
       "      <td>e</td>\n",
       "      <td>x</td>\n",
       "      <td>s</td>\n",
       "      <td>y</td>\n",
       "      <td>t</td>\n",
       "      <td>a</td>\n",
       "      <td>f</td>\n",
       "      <td>w</td>\n",
       "      <td>b</td>\n",
       "      <td>g</td>\n",
       "      <td>...</td>\n",
       "      <td>s</td>\n",
       "      <td>w</td>\n",
       "      <td>w</td>\n",
       "      <td>p</td>\n",
       "      <td>w</td>\n",
       "      <td>o</td>\n",
       "      <td>p</td>\n",
       "      <td>n</td>\n",
       "      <td>v</td>\n",
       "      <td>d</td>\n",
       "    </tr>\n",
       "    <tr>\n",
       "      <th>1</th>\n",
       "      <td>e</td>\n",
       "      <td>f</td>\n",
       "      <td>s</td>\n",
       "      <td>y</td>\n",
       "      <td>f</td>\n",
       "      <td>n</td>\n",
       "      <td>f</td>\n",
       "      <td>c</td>\n",
       "      <td>b</td>\n",
       "      <td>p</td>\n",
       "      <td>...</td>\n",
       "      <td>s</td>\n",
       "      <td>w</td>\n",
       "      <td>w</td>\n",
       "      <td>p</td>\n",
       "      <td>w</td>\n",
       "      <td>o</td>\n",
       "      <td>f</td>\n",
       "      <td>n</td>\n",
       "      <td>y</td>\n",
       "      <td>g</td>\n",
       "    </tr>\n",
       "    <tr>\n",
       "      <th>2</th>\n",
       "      <td>e</td>\n",
       "      <td>k</td>\n",
       "      <td>s</td>\n",
       "      <td>w</td>\n",
       "      <td>f</td>\n",
       "      <td>c</td>\n",
       "      <td>f</td>\n",
       "      <td>w</td>\n",
       "      <td>b</td>\n",
       "      <td>g</td>\n",
       "      <td>...</td>\n",
       "      <td>s</td>\n",
       "      <td>w</td>\n",
       "      <td>n</td>\n",
       "      <td>p</td>\n",
       "      <td>w</td>\n",
       "      <td>t</td>\n",
       "      <td>e</td>\n",
       "      <td>w</td>\n",
       "      <td>n</td>\n",
       "      <td>g</td>\n",
       "    </tr>\n",
       "    <tr>\n",
       "      <th>3</th>\n",
       "      <td>e</td>\n",
       "      <td>f</td>\n",
       "      <td>f</td>\n",
       "      <td>n</td>\n",
       "      <td>t</td>\n",
       "      <td>n</td>\n",
       "      <td>f</td>\n",
       "      <td>c</td>\n",
       "      <td>b</td>\n",
       "      <td>w</td>\n",
       "      <td>...</td>\n",
       "      <td>s</td>\n",
       "      <td>g</td>\n",
       "      <td>w</td>\n",
       "      <td>p</td>\n",
       "      <td>w</td>\n",
       "      <td>o</td>\n",
       "      <td>p</td>\n",
       "      <td>k</td>\n",
       "      <td>v</td>\n",
       "      <td>d</td>\n",
       "    </tr>\n",
       "    <tr>\n",
       "      <th>4</th>\n",
       "      <td>p</td>\n",
       "      <td>x</td>\n",
       "      <td>s</td>\n",
       "      <td>w</td>\n",
       "      <td>t</td>\n",
       "      <td>p</td>\n",
       "      <td>f</td>\n",
       "      <td>c</td>\n",
       "      <td>n</td>\n",
       "      <td>w</td>\n",
       "      <td>...</td>\n",
       "      <td>s</td>\n",
       "      <td>w</td>\n",
       "      <td>w</td>\n",
       "      <td>p</td>\n",
       "      <td>w</td>\n",
       "      <td>o</td>\n",
       "      <td>p</td>\n",
       "      <td>n</td>\n",
       "      <td>s</td>\n",
       "      <td>u</td>\n",
       "    </tr>\n",
       "  </tbody>\n",
       "</table>\n",
       "<p>5 rows × 23 columns</p>\n",
       "</div>"
      ],
      "text/plain": [
       "  class cap-shape cap-surface cap-color bruises odor gill-attachment  \\\n",
       "0     e         x           s         y       t    a               f   \n",
       "1     e         f           s         y       f    n               f   \n",
       "2     e         k           s         w       f    c               f   \n",
       "3     e         f           f         n       t    n               f   \n",
       "4     p         x           s         w       t    p               f   \n",
       "\n",
       "  gill-spacing gill-size gill-color  ... stalk-surface-below-ring  \\\n",
       "0            w         b          g  ...                        s   \n",
       "1            c         b          p  ...                        s   \n",
       "2            w         b          g  ...                        s   \n",
       "3            c         b          w  ...                        s   \n",
       "4            c         n          w  ...                        s   \n",
       "\n",
       "  stalk-color-above-ring stalk-color-below-ring veil-type veil-color  \\\n",
       "0                      w                      w         p          w   \n",
       "1                      w                      w         p          w   \n",
       "2                      w                      n         p          w   \n",
       "3                      g                      w         p          w   \n",
       "4                      w                      w         p          w   \n",
       "\n",
       "  ring-number ring-type spore-print-color population habitat  \n",
       "0           o         p                 n          v       d  \n",
       "1           o         f                 n          y       g  \n",
       "2           t         e                 w          n       g  \n",
       "3           o         p                 k          v       d  \n",
       "4           o         p                 n          s       u  \n",
       "\n",
       "[5 rows x 23 columns]"
      ]
     },
     "execution_count": 2,
     "metadata": {},
     "output_type": "execute_result"
    }
   ],
   "source": [
    "df = pd.read_csv(\"data/agaricus_lepiota_small_c.csv\")\n",
    "\n",
    "df.info()\n",
    "df.head()"
   ]
  },
  {
   "cell_type": "markdown",
   "metadata": {},
   "source": [
    "## Preprocessing Data"
   ]
  },
  {
   "cell_type": "markdown",
   "metadata": {},
   "source": [
    "- Tranforming and extracting the labes from df ('class')\n",
    "- Imputation of a default value for the missing values in 'stalk-root' attribute \n",
    "- I decided to use one-hot-encoder in some attributes where the category type is determinant\n",
    "- For the others, i used ordinal-encoder. Specifying some attributes where the order is most relevant"
   ]
  },
  {
   "cell_type": "code",
   "execution_count": 3,
   "metadata": {},
   "outputs": [],
   "source": [
    "from sklearn.preprocessing import OneHotEncoder, OrdinalEncoder\n",
    "from sklearn.compose import ColumnTransformer\n",
    "\n",
    "df['class'].replace('e', 0, inplace=True)\n",
    "df['class'].replace('p', 1, inplace=True)\n",
    "\n",
    "y = df['class'].to_numpy()\n",
    "\n",
    "df.drop('class', axis=1, inplace=True)\n",
    "\n",
    "df['stalk-root'].fillna('-', inplace=True)\n",
    "\n",
    "\n",
    "ohe_labels = ['cap-shape','odor','gill-attachment','stalk-root','veil-type','ring-type','habitat']\n",
    "oe_special_labels = ['ring-number','stalk-surface-above-ring','stalk-surface-below-ring','cap-surface']\n",
    "oe_labels = [label for label in df.columns if label not in ohe_labels + oe_special_labels]\n",
    "\n",
    "transformers = [\n",
    "    ('ohe', OneHotEncoder(), ohe_labels),\n",
    "    ('oe', OrdinalEncoder(), oe_labels),\n",
    "    ('oe_ring_number', OrdinalEncoder(categories=[['n','o','t']]), ['ring-number']),\n",
    "    ('oe_stalk_surface_above_ring', OrdinalEncoder(categories=[['f','y','k','s']]),['stalk-surface-above-ring']),\n",
    "    ('oe_stalk_surface_below_ring', OrdinalEncoder(categories=[['f','y','k','s']]),['stalk-surface-below-ring']),\n",
    "    ('oe_cap_surface', OrdinalEncoder(categories=[['f','g','y','s']]),['cap-surface']),\n",
    "]\n",
    "\n",
    "ct = ColumnTransformer(\n",
    "    transformers, remainder='passthrough'\n",
    ")\n",
    "\n",
    "X = ct.fit_transform(df)"
   ]
  },
  {
   "cell_type": "code",
   "execution_count": 4,
   "metadata": {},
   "outputs": [],
   "source": [
    "results = {\n",
    "    \"knn\": {\n",
    "        \"kfold\": {\n",
    "            \"scores\": [],\n",
    "            \"predicts\": []\n",
    "        },\n",
    "        \"grid\": {\n",
    "            \"scores\": [],\n",
    "            \"predicts\": []\n",
    "        }\n",
    "    },\n",
    "    \"svm\": {\n",
    "        \"kfold\": {\n",
    "            \"scores\": [],\n",
    "            \"predicts\": []\n",
    "        },\n",
    "        \"grid\": {\n",
    "            \"scores\": [],\n",
    "            \"predicts\": [],\n",
    "            \"params\": [],\n",
    "        }\n",
    "    }\n",
    "}\n",
    "\n",
    "def show_scores_stats(scores_list):\n",
    "    print(\"Accuracies scores statistics: min: %.2f, max: %.2f, avg +- std: %.2f+-%.2f\" % (min(scores_list), max(scores_list), np.mean(scores_list), np.std(scores_list)))"
   ]
  },
  {
   "cell_type": "markdown",
   "metadata": {},
   "source": [
    "## KNN\n",
    "\n",
    "- First level - StratifiedKFold (k-vias = 10)"
   ]
  },
  {
   "cell_type": "code",
   "execution_count": 5,
   "metadata": {},
   "outputs": [
    {
     "data": {
      "application/vnd.jupyter.widget-view+json": {
       "model_id": "b99a368c2a744148a4ff805d72075fdb",
       "version_major": 2,
       "version_minor": 0
      },
      "text/plain": [
       "HBox(children=(FloatProgress(value=0.0, description='Processed folds', max=10.0, style=ProgressStyle(descripti…"
      ]
     },
     "metadata": {},
     "output_type": "display_data"
    },
    {
     "name": "stdout",
     "output_type": "stream",
     "text": [
      "\n",
      "Accuracies scores statistics: min: 0.90, max: 0.98, avg +- std: 0.93+-0.02\n",
      "Best K in validation: 9 (acc=0.98)\n"
     ]
    },
    {
     "data": {
      "text/plain": [
       "[0.945054945054945,\n",
       " 0.8958333333333334,\n",
       " 0.8979591836734694,\n",
       " 0.9148936170212766,\n",
       " 0.9795918367346939,\n",
       " 0.9484536082474228,\n",
       " 0.9361702127659574,\n",
       " 0.9361702127659574,\n",
       " 0.9052631578947369,\n",
       " 0.9361702127659575]"
      ]
     },
     "execution_count": 5,
     "metadata": {},
     "output_type": "execute_result"
    }
   ],
   "source": [
    "from utils import do_cv_knn\n",
    "\n",
    "ks = range(1,30,2)\n",
    "k_vias = 10\n",
    "knn_kfold_cv_scores, knn_kfold_cv_predicts = do_cv_knn(X, y, k_vias, ks, score_type='f1')\n",
    "results['knn']['kfold']['scores'], results['knn']['kfold']['predicts'] = knn_kfold_cv_scores, knn_kfold_cv_predicts\n",
    "\n",
    "show_scores_stats(knn_kfold_cv_scores)\n",
    "print(\"Best K in validation: %d (acc=%.2f)\" % (ks[np.argmax(knn_kfold_cv_scores)], max(knn_kfold_cv_scores)))\n",
    "knn_kfold_cv_scores"
   ]
  },
  {
   "cell_type": "markdown",
   "metadata": {},
   "source": [
    "- Second level - GridSearchCV (k-vias = 5)"
   ]
  },
  {
   "cell_type": "code",
   "execution_count": 6,
   "metadata": {},
   "outputs": [
    {
     "data": {
      "application/vnd.jupyter.widget-view+json": {
       "model_id": "d3a211037427433a8b38779fa1abd416",
       "version_major": 2,
       "version_minor": 0
      },
      "text/plain": [
       "HBox(children=(FloatProgress(value=0.0, description='Processed folds', max=5.0, style=ProgressStyle(descriptio…"
      ]
     },
     "metadata": {},
     "output_type": "display_data"
    },
    {
     "name": "stdout",
     "output_type": "stream",
     "text": [
      "\n",
      "Accuracies scores statistics: min: 0.90, max: 0.95, avg +- std: 0.93+-0.02\n",
      "Best K in validation: 5 (acc=0.95)\n"
     ]
    },
    {
     "data": {
      "text/plain": [
       "[0.9368421052631578,\n",
       " 0.8958333333333334,\n",
       " 0.9533678756476685,\n",
       " 0.9263157894736843,\n",
       " 0.9214659685863875]"
      ]
     },
     "execution_count": 6,
     "metadata": {},
     "output_type": "execute_result"
    }
   ],
   "source": [
    "from utils import do_grid_cv_knn\n",
    "\n",
    "ks = range(1,30,2)\n",
    "k_vias = 5\n",
    "knn_hp_cv_scores, knn_hp_cv_predicts = do_grid_cv_knn(X, y, k_vias, ks, score_type='f1')\n",
    "results['knn']['grid']['scores'], results['knn']['grid']['predicts'] = knn_hp_cv_scores, knn_hp_cv_predicts\n",
    "\n",
    "show_scores_stats(knn_hp_cv_scores)\n",
    "print(\"Best K in validation: %d (acc=%.2f)\" % (ks[np.argmax(knn_hp_cv_scores)], max(knn_hp_cv_scores)))\n",
    "knn_hp_cv_scores"
   ]
  },
  {
   "cell_type": "markdown",
   "metadata": {},
   "source": [
    "## SVM\n",
    "\n",
    "- First level - StratifiedKFold (k-vias = 10)"
   ]
  },
  {
   "cell_type": "code",
   "execution_count": 7,
   "metadata": {},
   "outputs": [
    {
     "data": {
      "application/vnd.jupyter.widget-view+json": {
       "model_id": "6ab49755d15e489b93a2c16a89c79a79",
       "version_major": 2,
       "version_minor": 0
      },
      "text/plain": [
       "HBox(children=(FloatProgress(value=0.0, description='Processed folds', max=10.0, style=ProgressStyle(descripti…"
      ]
     },
     "metadata": {},
     "output_type": "display_data"
    },
    {
     "name": "stdout",
     "output_type": "stream",
     "text": [
      "\n",
      "Accuracies scores statistics: min: 0.91, max: 0.96, avg +- std: 0.94+-0.02\n"
     ]
    },
    {
     "data": {
      "text/plain": [
       "[0.9484536082474228,\n",
       " 0.9072164948453607,\n",
       " 0.9387755102040817,\n",
       " 0.9574468085106383,\n",
       " 0.9494949494949494,\n",
       " 0.9583333333333334,\n",
       " 0.9166666666666666,\n",
       " 0.9347826086956522,\n",
       " 0.9263157894736843,\n",
       " 0.9484536082474228]"
      ]
     },
     "execution_count": 7,
     "metadata": {},
     "output_type": "execute_result"
    }
   ],
   "source": [
    "from utils import do_cv_svm\n",
    "\n",
    "k_vias = 10\n",
    "svm_kfold_cv_scores, svm_kfold_cv_predicts = do_cv_svm(X, y, k_vias, Cs=[1, 10, 100, 1000], gammas=['scale', 'auto', 2e-2, 2e-3, 2e-4], score_type='f1')\n",
    "results['svm']['kfold']['scores'], results['svm']['kfold']['predicts'] = svm_kfold_cv_scores, svm_kfold_cv_predicts\n",
    "\n",
    "show_scores_stats(svm_kfold_cv_scores)\n",
    "svm_kfold_cv_scores"
   ]
  },
  {
   "cell_type": "markdown",
   "metadata": {},
   "source": [
    "- Second level - GridSearchCV (k-vias = 5)"
   ]
  },
  {
   "cell_type": "code",
   "execution_count": 8,
   "metadata": {},
   "outputs": [
    {
     "data": {
      "application/vnd.jupyter.widget-view+json": {
       "model_id": "5a35ec1ec26c4698bd5afe214bb92a0c",
       "version_major": 2,
       "version_minor": 0
      },
      "text/plain": [
       "HBox(children=(FloatProgress(value=0.0, description='Processed folds', max=5.0, style=ProgressStyle(descriptio…"
      ]
     },
     "metadata": {},
     "output_type": "display_data"
    },
    {
     "name": "stdout",
     "output_type": "stream",
     "text": [
      "\n",
      "Accuracies scores statistics: min: 0.90, max: 0.96, avg +- std: 0.93+-0.02\n",
      "Best C: 100 and  Gamma:0.002 in validation:  (acc=0.9591836734693877)\n"
     ]
    },
    {
     "data": {
      "text/plain": [
       "[0.9032258064516129,\n",
       " 0.9319371727748692,\n",
       " 0.9591836734693877,\n",
       " 0.9297297297297297,\n",
       " 0.9479166666666666]"
      ]
     },
     "execution_count": 8,
     "metadata": {},
     "output_type": "execute_result"
    }
   ],
   "source": [
    "from utils import do_grid_cv_svm\n",
    "\n",
    "k_vias = 5\n",
    "svm_hp_cv_scores, svm_hp_cv_predicts, svm_hp_cv_params = do_grid_cv_svm(X, y, k_vias, Cs=[1, 10, 100, 1000], gammas=['scale', 'auto', 2e-2, 2e-3, 2e-4], score_type='f1')\n",
    "results['svm']['grid']['scores'], results['svm']['grid']['predicts'], results['svm']['grid']['params'] = svm_hp_cv_scores, svm_hp_cv_predicts, svm_hp_cv_params\n",
    "\n",
    "show_scores_stats(svm_hp_cv_scores)\n",
    "print(f\"Best C: {svm_hp_cv_params[np.argmax(svm_hp_cv_scores)]['C']} and  Gamma:{svm_hp_cv_params[np.argmax(svm_hp_cv_scores)]['gamma']} in validation:  (acc={ max(svm_hp_cv_scores)})\")\n",
    "svm_hp_cv_scores"
   ]
  },
  {
   "cell_type": "markdown",
   "metadata": {},
   "source": [
    "## Null Hypothesis Test by Student's T Test"
   ]
  },
  {
   "cell_type": "code",
   "execution_count": 9,
   "metadata": {},
   "outputs": [
    {
     "data": {
      "text/plain": [
       "0.26066579821095054"
      ]
     },
     "execution_count": 9,
     "metadata": {},
     "output_type": "execute_result"
    }
   ],
   "source": [
    "from scipy.stats import ttest_ind_from_stats\n",
    "\n",
    "minimum_confidence_level = 0.05\n",
    "\n",
    "knn_scores = results['knn']['kfold']['scores'] + results['knn']['grid']['scores']\n",
    "\n",
    "svm_scores = results['svm']['kfold']['scores'] + results['svm']['grid']['scores']\n",
    "\n",
    "_, pvalue = ttest_ind_from_stats(np.mean(knn_scores), np.std(knn_scores), len(knn_scores), np.mean(svm_scores), np.std(svm_scores), len(svm_scores))\n",
    "\n",
    "pvalue"
   ]
  },
  {
   "cell_type": "markdown",
   "metadata": {},
   "source": [
    "- Selecting the best classifier, KNN or SVM"
   ]
  },
  {
   "cell_type": "code",
   "execution_count": 11,
   "metadata": {},
   "outputs": [
    {
     "name": "stdout",
     "output_type": "stream",
     "text": [
      "The difference between the averages of the results of the classifiers it's not enough to determine if one is better than the other\n"
     ]
    }
   ],
   "source": [
    "if not pvalue <= minimum_confidence_level:\n",
    "    print(\"The difference between the averages of the results of the classifiers it's not enough to determine if one is better than the other\")\n",
    "else:\n",
    "    if np.mean(knn_scores) > np.mean(svm_scores):\n",
    "        print(f\"KNN achieved better results, with a hit average of {np.mean(knn_scores)}\")\n",
    "    else:\n",
    "        print(f\"SVM achieved better results, with a hit average of {np.mean(svm_scores)}\")"
   ]
  },
  {
   "cell_type": "markdown",
   "metadata": {},
   "source": [
    "## The final question:"
   ]
  },
  {
   "cell_type": "markdown",
   "metadata": {},
   "source": [
    "#### Would you use some classifier that you created to decide whether or not to eat a mushroom ranked by it? Justify using the performance obtained and the result of the hypothesis test.\n",
    "\n",
    "#### R: Yes, the hit rate in both was good, arround 93%. I think this performance and the ammount of data is good enough to trust in the classifier prediction. "
   ]
  }
 ],
 "metadata": {
  "interpreter": {
   "hash": "e98e9768cb023e7c615d92e2b60789d511ec8e3d51eba73a4483127dc66b109e"
  },
  "kernelspec": {
   "display_name": "Python 3.8.3 64-bit ('base': conda)",
   "language": "python",
   "name": "python3"
  },
  "language_info": {
   "codemirror_mode": {
    "name": "ipython",
    "version": 3
   },
   "file_extension": ".py",
   "mimetype": "text/x-python",
   "name": "python",
   "nbconvert_exporter": "python",
   "pygments_lexer": "ipython3",
   "version": "3.8.3"
  },
  "orig_nbformat": 4
 },
 "nbformat": 4,
 "nbformat_minor": 2
}
